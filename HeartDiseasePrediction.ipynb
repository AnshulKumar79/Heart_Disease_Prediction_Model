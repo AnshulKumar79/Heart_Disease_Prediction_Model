{
 "cells": [
  {
   "cell_type": "code",
   "execution_count": null,
   "id": "da9b3359-6cb3-4d70-b52e-354090084f57",
   "metadata": {},
   "outputs": [],
   "source": []
  }
 ],
 "metadata": {
  "kernelspec": {
   "display_name": "",
   "name": ""
  },
  "language_info": {
   "name": ""
  }
 },
 "nbformat": 4,
 "nbformat_minor": 5
}
